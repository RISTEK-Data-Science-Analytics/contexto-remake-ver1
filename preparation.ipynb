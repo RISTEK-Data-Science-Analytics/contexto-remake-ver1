{
 "cells": [
  {
   "cell_type": "code",
   "execution_count": 26,
   "metadata": {},
   "outputs": [],
   "source": [
    "from sentence_transformers import SentenceTransformer\n",
    "from sklearn.metrics.pairwise import cosine_similarity\n",
    "import torch\n",
    "\n",
    "# Load the Indonesian Sentence BERT model\n",
    "model = SentenceTransformer('firqaaa/indo-sentence-bert-base')"
   ]
  },
  {
   "cell_type": "code",
   "execution_count": null,
   "metadata": {},
   "outputs": [],
   "source": [
    "def similarity(word1, word2):\n",
    "    # Ensure the model and words are on the same device\n",
    "    device = torch.device(\"cuda\" if torch.cuda.is_available() else \"cpu\")\n",
    "    model.to(device)\n",
    "    \n",
    "    # Convert words to embeddings\n",
    "    embeddings1 = model.encode([word1], convert_to_tensor=True, device=device)\n",
    "    embeddings2 = model.encode([word2], convert_to_tensor=True, device=device)\n",
    "    \n",
    "    # Calculate cosine similarity\n",
    "    sim_score = cosine_similarity(embeddings1.cpu().numpy(), embeddings2.cpu().numpy())[0][0]\n",
    "    \n",
    "    return sim_score"
   ]
  },
  {
   "cell_type": "code",
   "execution_count": 30,
   "metadata": {},
   "outputs": [
    {
     "name": "stdout",
     "output_type": "stream",
     "text": [
      "0.77462053\n"
     ]
    }
   ],
   "source": [
    "# Example usage\n",
    "word1 = \"buku\"\n",
    "word2 = \"kitab\"\n",
    "print(similarity(word1, word2))"
   ]
  },
  {
   "cell_type": "code",
   "execution_count": 36,
   "metadata": {},
   "outputs": [
    {
     "name": "stdout",
     "output_type": "stream",
     "text": [
      "['a', 'ab', 'aba', 'aba-aba', 'abad']\n"
     ]
    }
   ],
   "source": [
    "def load_text_file(file_path):\n",
    "    with open(file_path, 'r') as file:\n",
    "        lines = file.readlines()\n",
    "        # Remove newline characters from each line and strip leading/trailing whitespaces\n",
    "        lines = [line.strip() for line in lines]\n",
    "    return lines\n",
    "\n",
    "# Example usage:\n",
    "file_path = 'kata.txt'  # Replace 'example.txt' with the path to your text file\n",
    "vocab_words = load_text_file(file_path)\n",
    "print(vocab_words[:5])"
   ]
  },
  {
   "cell_type": "code",
   "execution_count": 52,
   "metadata": {},
   "outputs": [],
   "source": [
    "# List of target words\n",
    "target_words = [\"pendidikan\",\"keluarga\", \"makanan\", \"perayaan\", \"alam\"\n",
    "                ]"
   ]
  },
  {
   "cell_type": "code",
   "execution_count": 58,
   "metadata": {},
   "outputs": [
    {
     "data": {
      "text/html": [
       "<div>\n",
       "<style scoped>\n",
       "    .dataframe tbody tr th:only-of-type {\n",
       "        vertical-align: middle;\n",
       "    }\n",
       "\n",
       "    .dataframe tbody tr th {\n",
       "        vertical-align: top;\n",
       "    }\n",
       "\n",
       "    .dataframe thead th {\n",
       "        text-align: right;\n",
       "    }\n",
       "</style>\n",
       "<table border=\"1\" class=\"dataframe\">\n",
       "  <thead>\n",
       "    <tr style=\"text-align: right;\">\n",
       "      <th></th>\n",
       "      <th>pendidikan</th>\n",
       "      <th>keluarga</th>\n",
       "      <th>makanan</th>\n",
       "      <th>perayaan</th>\n",
       "      <th>alam</th>\n",
       "    </tr>\n",
       "  </thead>\n",
       "  <tbody>\n",
       "    <tr>\n",
       "      <th>a</th>\n",
       "      <td>0.611886</td>\n",
       "      <td>0.316088</td>\n",
       "      <td>0.471980</td>\n",
       "      <td>0.423333</td>\n",
       "      <td>0.588911</td>\n",
       "    </tr>\n",
       "    <tr>\n",
       "      <th>ab</th>\n",
       "      <td>0.601733</td>\n",
       "      <td>0.261370</td>\n",
       "      <td>0.381113</td>\n",
       "      <td>0.385298</td>\n",
       "      <td>0.559840</td>\n",
       "    </tr>\n",
       "    <tr>\n",
       "      <th>aba</th>\n",
       "      <td>0.575564</td>\n",
       "      <td>0.190402</td>\n",
       "      <td>0.391935</td>\n",
       "      <td>0.333788</td>\n",
       "      <td>0.434451</td>\n",
       "    </tr>\n",
       "    <tr>\n",
       "      <th>aba-aba</th>\n",
       "      <td>0.406844</td>\n",
       "      <td>0.129398</td>\n",
       "      <td>0.225260</td>\n",
       "      <td>0.283624</td>\n",
       "      <td>0.285817</td>\n",
       "    </tr>\n",
       "    <tr>\n",
       "      <th>abad</th>\n",
       "      <td>0.476435</td>\n",
       "      <td>0.171624</td>\n",
       "      <td>0.265396</td>\n",
       "      <td>0.292270</td>\n",
       "      <td>0.349813</td>\n",
       "    </tr>\n",
       "  </tbody>\n",
       "</table>\n",
       "</div>"
      ],
      "text/plain": [
       "         pendidikan  keluarga   makanan  perayaan      alam\n",
       "a          0.611886  0.316088  0.471980  0.423333  0.588911\n",
       "ab         0.601733  0.261370  0.381113  0.385298  0.559840\n",
       "aba        0.575564  0.190402  0.391935  0.333788  0.434451\n",
       "aba-aba    0.406844  0.129398  0.225260  0.283624  0.285817\n",
       "abad       0.476435  0.171624  0.265396  0.292270  0.349813"
      ]
     },
     "execution_count": 58,
     "metadata": {},
     "output_type": "execute_result"
    }
   ],
   "source": [
    "import pandas as pd\n",
    "from tqdm import tqdm\n",
    "\n",
    "# Encode all vocab words and target words at once\n",
    "vocab_embeddings = model.encode(vocab_words, convert_to_tensor=True, batch_size=32)\n",
    "target_embeddings = model.encode(target_words, convert_to_tensor=True, batch_size=32)\n",
    "\n",
    "# Calculate cosine similarities\n",
    "# cosine_similarity function can handle batch operations, so no need for a loop\n",
    "similarities = cosine_similarity(target_embeddings.cpu().numpy(), vocab_embeddings.cpu().numpy())\n",
    "\n",
    "# Convert similarities to a DataFrame\n",
    "similarity_df = pd.DataFrame(similarities.T, index=vocab_words, columns=target_words)\n",
    "\n",
    "similarity_df.head()"
   ]
  },
  {
   "cell_type": "code",
   "execution_count": 60,
   "metadata": {},
   "outputs": [],
   "source": [
    "similarity_df.to_csv('game.csv')"
   ]
  }
 ],
 "metadata": {
  "kernelspec": {
   "display_name": "Python 3",
   "language": "python",
   "name": "python3"
  },
  "language_info": {
   "codemirror_mode": {
    "name": "ipython",
    "version": 3
   },
   "file_extension": ".py",
   "mimetype": "text/x-python",
   "name": "python",
   "nbconvert_exporter": "python",
   "pygments_lexer": "ipython3",
   "version": "3.10.11"
  }
 },
 "nbformat": 4,
 "nbformat_minor": 2
}
